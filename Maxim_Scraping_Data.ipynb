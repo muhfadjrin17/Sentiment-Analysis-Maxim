{
 "cells": [
  {
   "cell_type": "code",
   "execution_count": null,
   "id": "a8e057cd",
   "metadata": {},
   "outputs": [],
   "source": [
    "\n",
    "from google_play_scraper import reviews_all, Sort # Import Sort\n",
    "import pandas as pd\n",
    "\n",
    "# Scraping Details\n",
    "# ID aplikasi: com.taxsee.taxsee\n",
    "scraped_reviews = reviews_all(\n",
    "    'com.taxsee.taxsee',  # ID aplikasi Maxim (Taxsee Driver)\n",
    "    lang='id',            # Bahasa ulasan (Indonesia)\n",
    "    country='id',         # Negara (Indonesia)\n",
    "    sort=Sort.MOST_RELEVANT, # Changed from 'MOST_RELEVANT' to Sort.MOST_RELEVANT\n",
    "    count=150000          # Jumlah ulasan yang diambil\n",
    ")\n",
    "\n",
    "# Konversi data ke DataFrame\n",
    "df = pd.DataFrame(scraped_reviews)\n",
    "\n",
    "# Menyimpan data ke file CSV\n",
    "file_path = 'taxsee_reviews.csv'\n",
    "df.to_csv(file_path, index=False, encoding='utf-8')\n",
    "\n",
    "# Informasi selesai\n",
    "print(f\"Data berhasil disimpan ke '{file_path}' dengan total {len(df)} ulasan.\")\n"
   ]
  }
 ],
 "metadata": {},
 "nbformat": 4,
 "nbformat_minor": 5
}