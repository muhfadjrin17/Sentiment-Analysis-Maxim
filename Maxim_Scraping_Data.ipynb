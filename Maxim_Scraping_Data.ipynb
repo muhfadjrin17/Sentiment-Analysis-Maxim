{
 "cells": [
  {
   "cell_type": "code",
   "execution_count": null,
   "id": "3662f4c2",
   "metadata": {},
   "outputs": [],
   "source": [
    "\n",
    "# Install Library\n",
    "!pip install google-play-scraper\n",
    "\n",
    "# Import Library\n",
    "from google_play_scraper import Sort, reviews_all\n",
    "import pandas as pd\n",
    "\n",
    "# Scraping Data\n",
    "reviews = reviews_all(\n",
    "    'com.taxsee.taxsee',  # ID aplikasi Maxim di Google Play Store\n",
    "    lang='id',  # Bahasa Indonesia\n",
    "    country='id',  # Lokasi Indonesia\n",
    "    sort=Sort.MOST_RELEVANT,  # Ulasan yang paling relevan\n",
    ")\n",
    "\n",
    "# Convert to DataFrame\n",
    "df = pd.DataFrame(reviews)\n",
    "\n",
    "# Save to CSV\n",
    "df.to_csv('maxim_reviews.csv', index=False)\n",
    "print(\"Data berhasil disimpan ke maxim_reviews.csv\")\n"
   ]
  }
 ],
 "metadata": {},
 "nbformat": 4,
 "nbformat_minor": 5
}